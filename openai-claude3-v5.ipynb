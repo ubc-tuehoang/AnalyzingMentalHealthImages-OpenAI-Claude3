{
 "cells": [
  {
   "cell_type": "code",
   "execution_count": 1,
   "id": "7335a0ab-f3a8-4455-abd7-c23f9f4c04a1",
   "metadata": {},
   "outputs": [],
   "source": [
    "import base64\n",
    "import requests\n",
    "\n",
    "image_media_type = \"image/jpeg\"\n",
    "image_media_type = \"image/png\"\n",
    "\n",
    "# Function to encode the image\n",
    "def _encode_image(image_path):\n",
    "  with open(image_path, \"rb\") as image_file:\n",
    "    return base64.b64encode(image_file.read()).decode('utf-8')\n",
    "\n",
    "def _download_image_and_convert_to_base64(url):\n",
    "    try:\n",
    "      # Send a GET request to the URL to download the image\n",
    "      response = requests.get(url)\n",
    "      response.raise_for_status()  # Raise an exception for bad status codes\n",
    "\n",
    "      # Convert the image content to a base64 string\n",
    "      base64_image = base64.b64encode(response.content).decode('utf-8')\n",
    "\n",
    "      return base64_image\n",
    "    except Exception as e:\n",
    "      print(f\"An error occurred: {e}\")\n",
    "      return None\n",
    "\n",
    "image_path = \"km-2.png\"\n",
    "image_path_url = image_path\n",
    "base64_image = encode_image(image_path)\n"
   ]
  },
  {
   "cell_type": "code",
   "execution_count": 2,
   "id": "18f796dd-8a74-42db-8c45-0b799707d14f",
   "metadata": {},
   "outputs": [],
   "source": [
    "prompt_text = \"\""
   ]
  },
  {
   "cell_type": "code",
   "execution_count": 3,
   "id": "27bff199-ab69-4e57-aa33-6ce9eb966248",
   "metadata": {},
   "outputs": [
    {
     "name": "stdout",
     "output_type": "stream",
     "text": [
      "Requirement already satisfied: anthropic in /usr/local/python/3.10.13/lib/python3.10/site-packages (0.19.1)\n",
      "Requirement already satisfied: anyio<5,>=3.5.0 in /home/codespace/.local/lib/python3.10/site-packages (from anthropic) (4.3.0)\n",
      "Requirement already satisfied: distro<2,>=1.7.0 in /usr/local/python/3.10.13/lib/python3.10/site-packages (from anthropic) (1.9.0)\n",
      "Requirement already satisfied: httpx<1,>=0.23.0 in /home/codespace/.local/lib/python3.10/site-packages (from anthropic) (0.27.0)\n",
      "Requirement already satisfied: pydantic<3,>=1.9.0 in /usr/local/python/3.10.13/lib/python3.10/site-packages (from anthropic) (2.6.3)\n",
      "Requirement already satisfied: sniffio in /home/codespace/.local/lib/python3.10/site-packages (from anthropic) (1.3.1)\n",
      "Requirement already satisfied: tokenizers>=0.13.0 in /usr/local/python/3.10.13/lib/python3.10/site-packages (from anthropic) (0.15.2)\n",
      "Requirement already satisfied: typing-extensions<5,>=4.7 in /home/codespace/.local/lib/python3.10/site-packages (from anthropic) (4.10.0)\n",
      "Requirement already satisfied: idna>=2.8 in /home/codespace/.local/lib/python3.10/site-packages (from anyio<5,>=3.5.0->anthropic) (3.6)\n",
      "Requirement already satisfied: exceptiongroup>=1.0.2 in /home/codespace/.local/lib/python3.10/site-packages (from anyio<5,>=3.5.0->anthropic) (1.2.0)\n",
      "Requirement already satisfied: certifi in /home/codespace/.local/lib/python3.10/site-packages (from httpx<1,>=0.23.0->anthropic) (2024.2.2)\n",
      "Requirement already satisfied: httpcore==1.* in /home/codespace/.local/lib/python3.10/site-packages (from httpx<1,>=0.23.0->anthropic) (1.0.4)\n",
      "Requirement already satisfied: h11<0.15,>=0.13 in /home/codespace/.local/lib/python3.10/site-packages (from httpcore==1.*->httpx<1,>=0.23.0->anthropic) (0.14.0)\n",
      "Requirement already satisfied: annotated-types>=0.4.0 in /usr/local/python/3.10.13/lib/python3.10/site-packages (from pydantic<3,>=1.9.0->anthropic) (0.6.0)\n",
      "Requirement already satisfied: pydantic-core==2.16.3 in /usr/local/python/3.10.13/lib/python3.10/site-packages (from pydantic<3,>=1.9.0->anthropic) (2.16.3)\n",
      "Requirement already satisfied: huggingface_hub<1.0,>=0.16.4 in /usr/local/python/3.10.13/lib/python3.10/site-packages (from tokenizers>=0.13.0->anthropic) (0.21.4)\n",
      "Requirement already satisfied: filelock in /home/codespace/.local/lib/python3.10/site-packages (from huggingface_hub<1.0,>=0.16.4->tokenizers>=0.13.0->anthropic) (3.13.1)\n",
      "Requirement already satisfied: fsspec>=2023.5.0 in /home/codespace/.local/lib/python3.10/site-packages (from huggingface_hub<1.0,>=0.16.4->tokenizers>=0.13.0->anthropic) (2024.2.0)\n",
      "Requirement already satisfied: requests in /home/codespace/.local/lib/python3.10/site-packages (from huggingface_hub<1.0,>=0.16.4->tokenizers>=0.13.0->anthropic) (2.31.0)\n",
      "Requirement already satisfied: tqdm>=4.42.1 in /usr/local/python/3.10.13/lib/python3.10/site-packages (from huggingface_hub<1.0,>=0.16.4->tokenizers>=0.13.0->anthropic) (4.66.2)\n",
      "Requirement already satisfied: pyyaml>=5.1 in /home/codespace/.local/lib/python3.10/site-packages (from huggingface_hub<1.0,>=0.16.4->tokenizers>=0.13.0->anthropic) (6.0.1)\n",
      "Requirement already satisfied: packaging>=20.9 in /home/codespace/.local/lib/python3.10/site-packages (from huggingface_hub<1.0,>=0.16.4->tokenizers>=0.13.0->anthropic) (23.2)\n",
      "Requirement already satisfied: charset-normalizer<4,>=2 in /home/codespace/.local/lib/python3.10/site-packages (from requests->huggingface_hub<1.0,>=0.16.4->tokenizers>=0.13.0->anthropic) (3.3.2)\n",
      "Requirement already satisfied: urllib3<3,>=1.21.1 in /usr/local/python/3.10.13/lib/python3.10/site-packages (from requests->huggingface_hub<1.0,>=0.16.4->tokenizers>=0.13.0->anthropic) (2.0.7)\n"
     ]
    }
   ],
   "source": [
    "#installing Claude3 requirement\n",
    "!pip install anthropic"
   ]
  },
  {
   "cell_type": "code",
   "execution_count": 4,
   "id": "7ddd3b54-08b3-4256-8d31-7566bc9f1f08",
   "metadata": {
    "scrolled": true
   },
   "outputs": [],
   "source": [
    "import requests\n",
    "from anthropic import Anthropic\n",
    "\n",
    "client = Anthropic(\n",
    "    #API TOKEN for Claude3\n",
    "    api_key=\"<CLAUDE3 API TOKEN>\",\n",
    ")\n",
    "\n",
    "message = client.messages.create(\n",
    "    max_tokens=1024,\n",
    "    messages=[\n",
    "        {\n",
    "            \"role\": \"user\",\n",
    "            \"content\": [\n",
    "                {\n",
    "                    \"type\": \"text\",\n",
    "                    \"text\": prompt_text\n",
    "                },\n",
    "                {\n",
    "                    \"type\": \"image\",\n",
    "                    \"source\": {\n",
    "                        \"type\": \"base64\",\n",
    "                        \"media_type\": image_media_type,\n",
    "                        \"data\": base64_image,\n",
    "                    },\n",
    "                }\n",
    "            ],\n",
    "        }\n",
    "    ],\n",
    "    model=\"claude-3-opus-20240229\",\n",
    ")\n"
   ]
  },
  {
   "cell_type": "code",
   "execution_count": 5,
   "id": "faf8c0e9-a8ec-45fe-a85d-3d35e109b3a7",
   "metadata": {},
   "outputs": [],
   "source": [
    "\n",
    "# OpenAI API Key\n",
    "api_key = \"<OPENAI API TOKEN>\"\n",
    "openai_url = \"https://api.openai.com/v1/chat/completions\"\n"
   ]
  },
  {
   "cell_type": "code",
   "execution_count": 6,
   "id": "08c15177-6422-4aa5-b02e-90918060958e",
   "metadata": {},
   "outputs": [],
   "source": [
    "\n",
    "headers = {\n",
    "  \"Content-Type\": \"application/json\",\n",
    "  \"Authorization\": f\"Bearer {api_key}\"\n",
    "}\n",
    "\n",
    "payload = {\n",
    "  \"model\": \"gpt-4-vision-preview\",\n",
    "  \"messages\": [\n",
    "    {\n",
    "      \"role\": \"user\",\n",
    "      \"content\": [\n",
    "        {\n",
    "          \"type\": \"text\",\n",
    "          \"text\": prompt_text\n",
    "        },\n",
    "        {\n",
    "          \"type\": \"image_url\",\n",
    "          \"image_url\": {\n",
    "            \"url\": f\"data:image/jpeg;base64,{base64_image}\",\n",
    "            \"detail\": \"low\"\n",
    "          }\n",
    "        }\n",
    "      ]\n",
    "    }\n",
    "  ],\n",
    "  \"max_tokens\": 1000\n",
    "}\n",
    "\n",
    "response = requests.post(openai_url, headers=headers, json=payload)\n"
   ]
  }
 ],
 "metadata": {
  "kernelspec": {
   "display_name": "Python 3 (ipykernel)",
   "language": "python",
   "name": "python3"
  },
  "language_info": {
   "codemirror_mode": {
    "name": "ipython",
    "version": 3
   },
   "file_extension": ".py",
   "mimetype": "text/x-python",
   "name": "python",
   "nbconvert_exporter": "python",
   "pygments_lexer": "ipython3",
   "version": "3.10.13"
  }
 },
 "nbformat": 4,
 "nbformat_minor": 5
}
